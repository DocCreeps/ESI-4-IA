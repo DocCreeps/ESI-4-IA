{
 "cells": [
  {
   "cell_type": "code",
   "execution_count": 1,
   "id": "70ce93d6",
   "metadata": {},
   "outputs": [
    {
     "data": {
      "text/html": [
       "<div>\n",
       "<style scoped>\n",
       "    .dataframe tbody tr th:only-of-type {\n",
       "        vertical-align: middle;\n",
       "    }\n",
       "\n",
       "    .dataframe tbody tr th {\n",
       "        vertical-align: top;\n",
       "    }\n",
       "\n",
       "    .dataframe thead th {\n",
       "        text-align: right;\n",
       "    }\n",
       "</style>\n",
       "<table border=\"1\" class=\"dataframe\">\n",
       "  <thead>\n",
       "    <tr style=\"text-align: right;\">\n",
       "      <th></th>\n",
       "      <th>name</th>\n",
       "      <th>review</th>\n",
       "      <th>label</th>\n",
       "    </tr>\n",
       "  </thead>\n",
       "  <tbody>\n",
       "    <tr>\n",
       "      <th>0</th>\n",
       "      <td>Diono Stroller Fan, Bright,</td>\n",
       "      <td>use this to keep my daughter cool in her car s...</td>\n",
       "      <td>positive</td>\n",
       "    </tr>\n",
       "    <tr>\n",
       "      <th>1</th>\n",
       "      <td>North States Superyard Play Yard, Grey, 6 Panel</td>\n",
       "      <td>wish it had a door or swing door attachment. w...</td>\n",
       "      <td>negative</td>\n",
       "    </tr>\n",
       "    <tr>\n",
       "      <th>2</th>\n",
       "      <td>YKS Cute Children Waterproof Apron With Cartoo...</td>\n",
       "      <td>Cute, but not super sturdy. It will work for a...</td>\n",
       "      <td>negative</td>\n",
       "    </tr>\n",
       "    <tr>\n",
       "      <th>3</th>\n",
       "      <td>Fisher-Price Precious Planet Jumperoo</td>\n",
       "      <td>My baby boy adores his jumperoo. He has had th...</td>\n",
       "      <td>positive</td>\n",
       "    </tr>\n",
       "    <tr>\n",
       "      <th>4</th>\n",
       "      <td>Nursery 101 Sidney Convertible Crib, White</td>\n",
       "      <td>I love this crib! It is the perfect width and ...</td>\n",
       "      <td>positive</td>\n",
       "    </tr>\n",
       "  </tbody>\n",
       "</table>\n",
       "</div>"
      ],
      "text/plain": [
       "                                                name  \\\n",
       "0                        Diono Stroller Fan, Bright,   \n",
       "1    North States Superyard Play Yard, Grey, 6 Panel   \n",
       "2  YKS Cute Children Waterproof Apron With Cartoo...   \n",
       "3              Fisher-Price Precious Planet Jumperoo   \n",
       "4         Nursery 101 Sidney Convertible Crib, White   \n",
       "\n",
       "                                              review     label  \n",
       "0  use this to keep my daughter cool in her car s...  positive  \n",
       "1  wish it had a door or swing door attachment. w...  negative  \n",
       "2  Cute, but not super sturdy. It will work for a...  negative  \n",
       "3  My baby boy adores his jumperoo. He has had th...  positive  \n",
       "4  I love this crib! It is the perfect width and ...  positive  "
      ]
     },
     "execution_count": 1,
     "metadata": {},
     "output_type": "execute_result"
    }
   ],
   "source": [
    "import pandas\n",
    "\n",
    "# Lecture du fichier csv\n",
    "products = pandas.read_csv('data/comments_on_products_pn.csv')\n",
    "\n",
    "# Affichage des données\n",
    "products.head()"
   ]
  },
  {
   "cell_type": "code",
   "execution_count": 2,
   "id": "11eebafc",
   "metadata": {},
   "outputs": [
    {
     "data": {
      "text/plain": [
       "(1003, 3)"
      ]
     },
     "execution_count": 2,
     "metadata": {},
     "output_type": "execute_result"
    }
   ],
   "source": [
    "# Nombre de lignes et colonnes\n",
    "products.shape"
   ]
  },
  {
   "cell_type": "code",
   "execution_count": 3,
   "id": "614d12c1",
   "metadata": {},
   "outputs": [
    {
     "data": {
      "text/plain": [
       "positive    782\n",
       "negative    221\n",
       "Name: label, dtype: int64"
      ]
     },
     "execution_count": 3,
     "metadata": {},
     "output_type": "execute_result"
    }
   ],
   "source": [
    "# Calcul du nombre de labels positifs et négatifs\n",
    "products.label.value_counts()"
   ]
  },
  {
   "cell_type": "code",
   "execution_count": 4,
   "id": "c03bd116",
   "metadata": {},
   "outputs": [
    {
     "name": "stdout",
     "output_type": "stream",
     "text": [
      "<class 'pandas.core.frame.DataFrame'>\n",
      "RangeIndex: 1003 entries, 0 to 1002\n",
      "Data columns (total 3 columns):\n",
      " #   Column  Non-Null Count  Dtype \n",
      "---  ------  --------------  ----- \n",
      " 0   name    1001 non-null   object\n",
      " 1   review  1002 non-null   object\n",
      " 2   label   1003 non-null   object\n",
      "dtypes: object(3)\n",
      "memory usage: 23.6+ KB\n"
     ]
    }
   ],
   "source": [
    "# Affichage du type de chaque colonne (infos type base de données)\n",
    "products.info()"
   ]
  },
  {
   "cell_type": "code",
   "execution_count": 5,
   "id": "15586f85",
   "metadata": {},
   "outputs": [
    {
     "name": "stdout",
     "output_type": "stream",
     "text": [
      "['babbles', 'babes', 'babies', 'babiesrus', 'baby', 'babybjorn', 'babyish', 'babysit', 'babysitting', 'babyview20', 'bach', 'backed', 'background', 'backing', 'backless', 'backpack', 'backpacks', 'backs', 'backup', 'backward']\n"
     ]
    }
   ],
   "source": [
    "# blabla\n",
    "from sklearn.feature_extraction.text import CountVectorizer\n",
    "\n",
    "# On initialise le CountVectorizer en fonction des mots\n",
    "bag_of_words = CountVectorizer(stop_words=\"english\", analyzer='word')\n",
    "\n",
    "# Application du drop_na pour enlever les valeurs vides\n",
    "products.dropna(subset=['review','name'], inplace=True)\n",
    "\n",
    "# Transformation en \"sac de mots\" (bag of words)\n",
    "data_words = bag_of_words.fit_transform(products.review)\n",
    "\n",
    "# Affichage des valeurs\n",
    "print(bag_of_words.get_feature_names()[400:420])"
   ]
  },
  {
   "cell_type": "code",
   "execution_count": 6,
   "id": "bd0f41a1",
   "metadata": {},
   "outputs": [
    {
     "data": {
      "text/plain": [
       "(1000, 5787)"
      ]
     },
     "execution_count": 6,
     "metadata": {},
     "output_type": "execute_result"
    }
   ],
   "source": [
    "# Nombre de mots uniques (5787)\n",
    "data_words.shape"
   ]
  },
  {
   "cell_type": "code",
   "execution_count": 7,
   "id": "3b050660",
   "metadata": {},
   "outputs": [
    {
     "data": {
      "text/html": [
       "<div>\n",
       "<style scoped>\n",
       "    .dataframe tbody tr th:only-of-type {\n",
       "        vertical-align: middle;\n",
       "    }\n",
       "\n",
       "    .dataframe tbody tr th {\n",
       "        vertical-align: top;\n",
       "    }\n",
       "\n",
       "    .dataframe thead th {\n",
       "        text-align: right;\n",
       "    }\n",
       "</style>\n",
       "<table border=\"1\" class=\"dataframe\">\n",
       "  <thead>\n",
       "    <tr style=\"text-align: right;\">\n",
       "      <th></th>\n",
       "      <th>0</th>\n",
       "      <th>1</th>\n",
       "      <th>2</th>\n",
       "      <th>3</th>\n",
       "      <th>4</th>\n",
       "      <th>5</th>\n",
       "      <th>6</th>\n",
       "      <th>7</th>\n",
       "      <th>8</th>\n",
       "      <th>9</th>\n",
       "      <th>...</th>\n",
       "      <th>5777</th>\n",
       "      <th>5778</th>\n",
       "      <th>5779</th>\n",
       "      <th>5780</th>\n",
       "      <th>5781</th>\n",
       "      <th>5782</th>\n",
       "      <th>5783</th>\n",
       "      <th>5784</th>\n",
       "      <th>5785</th>\n",
       "      <th>5786</th>\n",
       "    </tr>\n",
       "  </thead>\n",
       "  <tbody>\n",
       "    <tr>\n",
       "      <th>0</th>\n",
       "      <td>0</td>\n",
       "      <td>0</td>\n",
       "      <td>0</td>\n",
       "      <td>0</td>\n",
       "      <td>0</td>\n",
       "      <td>0</td>\n",
       "      <td>0</td>\n",
       "      <td>0</td>\n",
       "      <td>0</td>\n",
       "      <td>0</td>\n",
       "      <td>...</td>\n",
       "      <td>0</td>\n",
       "      <td>0</td>\n",
       "      <td>0</td>\n",
       "      <td>0</td>\n",
       "      <td>0</td>\n",
       "      <td>0</td>\n",
       "      <td>0</td>\n",
       "      <td>0</td>\n",
       "      <td>0</td>\n",
       "      <td>0</td>\n",
       "    </tr>\n",
       "    <tr>\n",
       "      <th>1</th>\n",
       "      <td>0</td>\n",
       "      <td>0</td>\n",
       "      <td>0</td>\n",
       "      <td>0</td>\n",
       "      <td>0</td>\n",
       "      <td>0</td>\n",
       "      <td>0</td>\n",
       "      <td>0</td>\n",
       "      <td>0</td>\n",
       "      <td>0</td>\n",
       "      <td>...</td>\n",
       "      <td>0</td>\n",
       "      <td>0</td>\n",
       "      <td>0</td>\n",
       "      <td>0</td>\n",
       "      <td>0</td>\n",
       "      <td>0</td>\n",
       "      <td>0</td>\n",
       "      <td>0</td>\n",
       "      <td>0</td>\n",
       "      <td>0</td>\n",
       "    </tr>\n",
       "    <tr>\n",
       "      <th>2</th>\n",
       "      <td>0</td>\n",
       "      <td>0</td>\n",
       "      <td>0</td>\n",
       "      <td>0</td>\n",
       "      <td>0</td>\n",
       "      <td>0</td>\n",
       "      <td>0</td>\n",
       "      <td>0</td>\n",
       "      <td>0</td>\n",
       "      <td>0</td>\n",
       "      <td>...</td>\n",
       "      <td>0</td>\n",
       "      <td>0</td>\n",
       "      <td>0</td>\n",
       "      <td>0</td>\n",
       "      <td>0</td>\n",
       "      <td>0</td>\n",
       "      <td>0</td>\n",
       "      <td>0</td>\n",
       "      <td>0</td>\n",
       "      <td>0</td>\n",
       "    </tr>\n",
       "    <tr>\n",
       "      <th>3</th>\n",
       "      <td>0</td>\n",
       "      <td>0</td>\n",
       "      <td>0</td>\n",
       "      <td>1</td>\n",
       "      <td>0</td>\n",
       "      <td>0</td>\n",
       "      <td>0</td>\n",
       "      <td>0</td>\n",
       "      <td>0</td>\n",
       "      <td>0</td>\n",
       "      <td>...</td>\n",
       "      <td>0</td>\n",
       "      <td>0</td>\n",
       "      <td>0</td>\n",
       "      <td>0</td>\n",
       "      <td>0</td>\n",
       "      <td>0</td>\n",
       "      <td>0</td>\n",
       "      <td>0</td>\n",
       "      <td>0</td>\n",
       "      <td>0</td>\n",
       "    </tr>\n",
       "    <tr>\n",
       "      <th>4</th>\n",
       "      <td>0</td>\n",
       "      <td>0</td>\n",
       "      <td>0</td>\n",
       "      <td>0</td>\n",
       "      <td>0</td>\n",
       "      <td>0</td>\n",
       "      <td>0</td>\n",
       "      <td>0</td>\n",
       "      <td>0</td>\n",
       "      <td>0</td>\n",
       "      <td>...</td>\n",
       "      <td>0</td>\n",
       "      <td>0</td>\n",
       "      <td>0</td>\n",
       "      <td>0</td>\n",
       "      <td>0</td>\n",
       "      <td>0</td>\n",
       "      <td>0</td>\n",
       "      <td>0</td>\n",
       "      <td>0</td>\n",
       "      <td>0</td>\n",
       "    </tr>\n",
       "    <tr>\n",
       "      <th>...</th>\n",
       "      <td>...</td>\n",
       "      <td>...</td>\n",
       "      <td>...</td>\n",
       "      <td>...</td>\n",
       "      <td>...</td>\n",
       "      <td>...</td>\n",
       "      <td>...</td>\n",
       "      <td>...</td>\n",
       "      <td>...</td>\n",
       "      <td>...</td>\n",
       "      <td>...</td>\n",
       "      <td>...</td>\n",
       "      <td>...</td>\n",
       "      <td>...</td>\n",
       "      <td>...</td>\n",
       "      <td>...</td>\n",
       "      <td>...</td>\n",
       "      <td>...</td>\n",
       "      <td>...</td>\n",
       "      <td>...</td>\n",
       "      <td>...</td>\n",
       "    </tr>\n",
       "    <tr>\n",
       "      <th>995</th>\n",
       "      <td>0</td>\n",
       "      <td>0</td>\n",
       "      <td>0</td>\n",
       "      <td>0</td>\n",
       "      <td>0</td>\n",
       "      <td>0</td>\n",
       "      <td>0</td>\n",
       "      <td>0</td>\n",
       "      <td>0</td>\n",
       "      <td>0</td>\n",
       "      <td>...</td>\n",
       "      <td>0</td>\n",
       "      <td>0</td>\n",
       "      <td>0</td>\n",
       "      <td>0</td>\n",
       "      <td>0</td>\n",
       "      <td>0</td>\n",
       "      <td>0</td>\n",
       "      <td>0</td>\n",
       "      <td>0</td>\n",
       "      <td>0</td>\n",
       "    </tr>\n",
       "    <tr>\n",
       "      <th>996</th>\n",
       "      <td>0</td>\n",
       "      <td>0</td>\n",
       "      <td>0</td>\n",
       "      <td>0</td>\n",
       "      <td>0</td>\n",
       "      <td>0</td>\n",
       "      <td>0</td>\n",
       "      <td>0</td>\n",
       "      <td>0</td>\n",
       "      <td>0</td>\n",
       "      <td>...</td>\n",
       "      <td>0</td>\n",
       "      <td>0</td>\n",
       "      <td>0</td>\n",
       "      <td>0</td>\n",
       "      <td>0</td>\n",
       "      <td>0</td>\n",
       "      <td>0</td>\n",
       "      <td>0</td>\n",
       "      <td>0</td>\n",
       "      <td>0</td>\n",
       "    </tr>\n",
       "    <tr>\n",
       "      <th>997</th>\n",
       "      <td>0</td>\n",
       "      <td>0</td>\n",
       "      <td>0</td>\n",
       "      <td>0</td>\n",
       "      <td>0</td>\n",
       "      <td>0</td>\n",
       "      <td>0</td>\n",
       "      <td>0</td>\n",
       "      <td>0</td>\n",
       "      <td>0</td>\n",
       "      <td>...</td>\n",
       "      <td>0</td>\n",
       "      <td>0</td>\n",
       "      <td>0</td>\n",
       "      <td>0</td>\n",
       "      <td>0</td>\n",
       "      <td>0</td>\n",
       "      <td>0</td>\n",
       "      <td>0</td>\n",
       "      <td>0</td>\n",
       "      <td>0</td>\n",
       "    </tr>\n",
       "    <tr>\n",
       "      <th>998</th>\n",
       "      <td>0</td>\n",
       "      <td>0</td>\n",
       "      <td>0</td>\n",
       "      <td>0</td>\n",
       "      <td>0</td>\n",
       "      <td>0</td>\n",
       "      <td>0</td>\n",
       "      <td>0</td>\n",
       "      <td>0</td>\n",
       "      <td>0</td>\n",
       "      <td>...</td>\n",
       "      <td>0</td>\n",
       "      <td>0</td>\n",
       "      <td>0</td>\n",
       "      <td>0</td>\n",
       "      <td>0</td>\n",
       "      <td>0</td>\n",
       "      <td>0</td>\n",
       "      <td>0</td>\n",
       "      <td>0</td>\n",
       "      <td>0</td>\n",
       "    </tr>\n",
       "    <tr>\n",
       "      <th>999</th>\n",
       "      <td>0</td>\n",
       "      <td>0</td>\n",
       "      <td>1</td>\n",
       "      <td>0</td>\n",
       "      <td>0</td>\n",
       "      <td>0</td>\n",
       "      <td>0</td>\n",
       "      <td>0</td>\n",
       "      <td>0</td>\n",
       "      <td>0</td>\n",
       "      <td>...</td>\n",
       "      <td>0</td>\n",
       "      <td>0</td>\n",
       "      <td>0</td>\n",
       "      <td>0</td>\n",
       "      <td>0</td>\n",
       "      <td>0</td>\n",
       "      <td>0</td>\n",
       "      <td>0</td>\n",
       "      <td>0</td>\n",
       "      <td>0</td>\n",
       "    </tr>\n",
       "  </tbody>\n",
       "</table>\n",
       "<p>1000 rows × 5787 columns</p>\n",
       "</div>"
      ],
      "text/plain": [
       "     0     1     2     3     4     5     6     7     8     9     ...  5777  \\\n",
       "0       0     0     0     0     0     0     0     0     0     0  ...     0   \n",
       "1       0     0     0     0     0     0     0     0     0     0  ...     0   \n",
       "2       0     0     0     0     0     0     0     0     0     0  ...     0   \n",
       "3       0     0     0     1     0     0     0     0     0     0  ...     0   \n",
       "4       0     0     0     0     0     0     0     0     0     0  ...     0   \n",
       "..    ...   ...   ...   ...   ...   ...   ...   ...   ...   ...  ...   ...   \n",
       "995     0     0     0     0     0     0     0     0     0     0  ...     0   \n",
       "996     0     0     0     0     0     0     0     0     0     0  ...     0   \n",
       "997     0     0     0     0     0     0     0     0     0     0  ...     0   \n",
       "998     0     0     0     0     0     0     0     0     0     0  ...     0   \n",
       "999     0     0     1     0     0     0     0     0     0     0  ...     0   \n",
       "\n",
       "     5778  5779  5780  5781  5782  5783  5784  5785  5786  \n",
       "0       0     0     0     0     0     0     0     0     0  \n",
       "1       0     0     0     0     0     0     0     0     0  \n",
       "2       0     0     0     0     0     0     0     0     0  \n",
       "3       0     0     0     0     0     0     0     0     0  \n",
       "4       0     0     0     0     0     0     0     0     0  \n",
       "..    ...   ...   ...   ...   ...   ...   ...   ...   ...  \n",
       "995     0     0     0     0     0     0     0     0     0  \n",
       "996     0     0     0     0     0     0     0     0     0  \n",
       "997     0     0     0     0     0     0     0     0     0  \n",
       "998     0     0     0     0     0     0     0     0     0  \n",
       "999     0     0     0     0     0     0     0     0     0  \n",
       "\n",
       "[1000 rows x 5787 columns]"
      ]
     },
     "execution_count": 7,
     "metadata": {},
     "output_type": "execute_result"
    }
   ],
   "source": [
    "pandas.DataFrame(data_words.toarray())"
   ]
  },
  {
   "cell_type": "code",
   "execution_count": 8,
   "id": "42e5177c",
   "metadata": {},
   "outputs": [
    {
     "data": {
      "text/html": [
       "<div>\n",
       "<style scoped>\n",
       "    .dataframe tbody tr th:only-of-type {\n",
       "        vertical-align: middle;\n",
       "    }\n",
       "\n",
       "    .dataframe tbody tr th {\n",
       "        vertical-align: top;\n",
       "    }\n",
       "\n",
       "    .dataframe thead th {\n",
       "        text-align: right;\n",
       "    }\n",
       "</style>\n",
       "<table border=\"1\" class=\"dataframe\">\n",
       "  <thead>\n",
       "    <tr style=\"text-align: right;\">\n",
       "      <th></th>\n",
       "      <th>0</th>\n",
       "      <th>1</th>\n",
       "      <th>2</th>\n",
       "      <th>3</th>\n",
       "      <th>4</th>\n",
       "      <th>5</th>\n",
       "      <th>6</th>\n",
       "      <th>7</th>\n",
       "      <th>8</th>\n",
       "      <th>9</th>\n",
       "      <th>...</th>\n",
       "      <th>5777</th>\n",
       "      <th>5778</th>\n",
       "      <th>5779</th>\n",
       "      <th>5780</th>\n",
       "      <th>5781</th>\n",
       "      <th>5782</th>\n",
       "      <th>5783</th>\n",
       "      <th>5784</th>\n",
       "      <th>5785</th>\n",
       "      <th>5786</th>\n",
       "    </tr>\n",
       "  </thead>\n",
       "  <tbody>\n",
       "    <tr>\n",
       "      <th>0</th>\n",
       "      <td>0</td>\n",
       "      <td>0</td>\n",
       "      <td>0</td>\n",
       "      <td>0</td>\n",
       "      <td>0</td>\n",
       "      <td>0</td>\n",
       "      <td>0</td>\n",
       "      <td>0</td>\n",
       "      <td>0</td>\n",
       "      <td>0</td>\n",
       "      <td>...</td>\n",
       "      <td>0</td>\n",
       "      <td>0</td>\n",
       "      <td>0</td>\n",
       "      <td>0</td>\n",
       "      <td>0</td>\n",
       "      <td>0</td>\n",
       "      <td>0</td>\n",
       "      <td>0</td>\n",
       "      <td>0</td>\n",
       "      <td>0</td>\n",
       "    </tr>\n",
       "    <tr>\n",
       "      <th>1</th>\n",
       "      <td>0</td>\n",
       "      <td>0</td>\n",
       "      <td>0</td>\n",
       "      <td>0</td>\n",
       "      <td>0</td>\n",
       "      <td>0</td>\n",
       "      <td>0</td>\n",
       "      <td>0</td>\n",
       "      <td>0</td>\n",
       "      <td>0</td>\n",
       "      <td>...</td>\n",
       "      <td>0</td>\n",
       "      <td>0</td>\n",
       "      <td>0</td>\n",
       "      <td>0</td>\n",
       "      <td>0</td>\n",
       "      <td>0</td>\n",
       "      <td>0</td>\n",
       "      <td>0</td>\n",
       "      <td>0</td>\n",
       "      <td>0</td>\n",
       "    </tr>\n",
       "    <tr>\n",
       "      <th>2</th>\n",
       "      <td>0</td>\n",
       "      <td>0</td>\n",
       "      <td>0</td>\n",
       "      <td>0</td>\n",
       "      <td>0</td>\n",
       "      <td>0</td>\n",
       "      <td>0</td>\n",
       "      <td>0</td>\n",
       "      <td>0</td>\n",
       "      <td>0</td>\n",
       "      <td>...</td>\n",
       "      <td>0</td>\n",
       "      <td>0</td>\n",
       "      <td>0</td>\n",
       "      <td>0</td>\n",
       "      <td>0</td>\n",
       "      <td>0</td>\n",
       "      <td>0</td>\n",
       "      <td>0</td>\n",
       "      <td>0</td>\n",
       "      <td>0</td>\n",
       "    </tr>\n",
       "    <tr>\n",
       "      <th>3</th>\n",
       "      <td>0</td>\n",
       "      <td>0</td>\n",
       "      <td>0</td>\n",
       "      <td>1</td>\n",
       "      <td>0</td>\n",
       "      <td>0</td>\n",
       "      <td>0</td>\n",
       "      <td>0</td>\n",
       "      <td>0</td>\n",
       "      <td>0</td>\n",
       "      <td>...</td>\n",
       "      <td>0</td>\n",
       "      <td>0</td>\n",
       "      <td>0</td>\n",
       "      <td>0</td>\n",
       "      <td>0</td>\n",
       "      <td>0</td>\n",
       "      <td>0</td>\n",
       "      <td>0</td>\n",
       "      <td>0</td>\n",
       "      <td>0</td>\n",
       "    </tr>\n",
       "    <tr>\n",
       "      <th>4</th>\n",
       "      <td>0</td>\n",
       "      <td>0</td>\n",
       "      <td>0</td>\n",
       "      <td>0</td>\n",
       "      <td>0</td>\n",
       "      <td>0</td>\n",
       "      <td>0</td>\n",
       "      <td>0</td>\n",
       "      <td>0</td>\n",
       "      <td>0</td>\n",
       "      <td>...</td>\n",
       "      <td>0</td>\n",
       "      <td>0</td>\n",
       "      <td>0</td>\n",
       "      <td>0</td>\n",
       "      <td>0</td>\n",
       "      <td>0</td>\n",
       "      <td>0</td>\n",
       "      <td>0</td>\n",
       "      <td>0</td>\n",
       "      <td>0</td>\n",
       "    </tr>\n",
       "  </tbody>\n",
       "</table>\n",
       "<p>5 rows × 5787 columns</p>\n",
       "</div>"
      ],
      "text/plain": [
       "   0     1     2     3     4     5     6     7     8     9     ...  5777  \\\n",
       "0     0     0     0     0     0     0     0     0     0     0  ...     0   \n",
       "1     0     0     0     0     0     0     0     0     0     0  ...     0   \n",
       "2     0     0     0     0     0     0     0     0     0     0  ...     0   \n",
       "3     0     0     0     1     0     0     0     0     0     0  ...     0   \n",
       "4     0     0     0     0     0     0     0     0     0     0  ...     0   \n",
       "\n",
       "   5778  5779  5780  5781  5782  5783  5784  5785  5786  \n",
       "0     0     0     0     0     0     0     0     0     0  \n",
       "1     0     0     0     0     0     0     0     0     0  \n",
       "2     0     0     0     0     0     0     0     0     0  \n",
       "3     0     0     0     0     0     0     0     0     0  \n",
       "4     0     0     0     0     0     0     0     0     0  \n",
       "\n",
       "[5 rows x 5787 columns]"
      ]
     },
     "execution_count": 8,
     "metadata": {},
     "output_type": "execute_result"
    }
   ],
   "source": [
    "pandas.DataFrame(data_words.toarray()).head()"
   ]
  },
  {
   "cell_type": "code",
   "execution_count": 9,
   "id": "25d78b53",
   "metadata": {},
   "outputs": [],
   "source": [
    "# Affichage des mots\n",
    "# bag_of_words.vocabulary_"
   ]
  },
  {
   "cell_type": "code",
   "execution_count": 10,
   "id": "0ecb11cb",
   "metadata": {},
   "outputs": [],
   "source": [
    "# Affichage des mots par ordre alphabétique\n",
    "# sorted(bag_of_words.vocabulary_)"
   ]
  },
  {
   "cell_type": "code",
   "execution_count": 11,
   "id": "934cf7e9",
   "metadata": {},
   "outputs": [
    {
     "name": "stdout",
     "output_type": "stream",
     "text": [
      "frozenset({'whence', 'enough', 'name', 'with', 'thereby', 'my', 'anything', 'whose', 'anywhere', 'the', 'whatever', 'latter', 'not', 'everyone', 'none', 'also', 'against', 'even', 'else', 'must', 'side', 'others', 'few', 'amoungst', 'further', 'un', 'but', 'go', 'hereupon', 'between', 'each', 'take', 'fifteen', 'than', 'it', 'herself', 'you', 'made', 'if', 'inc', 'whether', 'such', 'more', 'upon', 'ever', 'someone', 'meanwhile', 'almost', 'call', 'here', 'wherein', 'seems', 'seemed', 'twenty', 'yet', 'together', 'otherwise', 'was', 'back', 'keep', 'now', 'move', 'thus', 'besides', 'eleven', 'somehow', 'becoming', 'couldnt', 'have', 'nor', 'thereupon', 'co', 'every', 'around', 'nothing', 'either', 'once', 'whereupon', 'via', 'up', 'what', 'however', 'hers', 'cry', 'nine', 'serious', 'am', 'everywhere', 'namely', 'their', 'hence', 'during', 'an', 'its', 'noone', 'so', 'found', 'never', 'well', 'nowhere', 'me', 'why', 'mine', 'hundred', 'been', 'through', 'become', 'third', 'hasnt', 'yours', 'done', 'very', 'be', 'see', 'some', 'yourselves', 'two', 'amount', 'us', 'he', 'always', 'eg', 'though', 'thence', 'behind', 'thin', 'something', 'give', 'wherever', 'nobody', 'thereafter', 'except', 'or', 'most', 'themselves', 'as', 'i', 'without', 'were', 'do', 'at', 'being', 'which', 'seeming', 'least', 'across', 'other', 'because', 'could', 'can', 'within', 'less', 'towards', 'where', 'one', 'since', 're', 'to', 'by', 'will', 'ours', 'many', 'out', 'detail', 'fill', 'your', 'onto', 'part', 'bill', 'both', 'find', 'still', 'seem', 'last', 'becomes', 'etc', 'this', 'sometimes', 'interest', 'six', 'whoever', 'cannot', 'in', 'alone', 'himself', 'indeed', 'beyond', 'they', 'neither', 'these', 'beside', 'ltd', 'system', 'above', 'same', 'empty', 'toward', 'mostly', 'full', 'twelve', 'amongst', 'whereby', 'con', 'had', 'cant', 'has', 'forty', 'off', 'latterly', 'who', 'former', 'itself', 'somewhere', 'too', 'five', 'top', 'below', 'a', 'any', 'three', 'moreover', 'whole', 'how', 'those', 'sincere', 'yourself', 'formerly', 'mill', 'often', 'thick', 'into', 'our', 'are', 'already', 'is', 'became', 'again', 'ie', 'we', 'rather', 'nevertheless', 'along', 'afterwards', 'then', 'fire', 'sometime', 'beforehand', 'she', 'should', 'throughout', 'therein', 'de', 'them', 'may', 'front', 'due', 'him', 'per', 'please', 'bottom', 'herein', 'anyhow', 'until', 'under', 'four', 'therefore', 'whither', 'on', 'elsewhere', 'describe', 'there', 'his', 'when', 'whom', 'anyway', 'from', 'over', 'another', 'myself', 'whereafter', 'before', 'only', 'whenever', 'down', 'might', 'much', 'among', 'several', 'fifty', 'would', 'put', 'get', 'own', 'and', 'everything', 'next', 'first', 'whereas', 'although', 'ten', 'of', 'all', 'perhaps', 'show', 'that', 'thru', 'no', 'hereafter', 'after', 'about', 'sixty', 'her', 'for', 'while', 'hereby', 'eight', 'ourselves', 'anyone'})\n"
     ]
    }
   ],
   "source": [
    "# Affichage des mots stop_word\n",
    "print(bag_of_words.get_stop_words())"
   ]
  },
  {
   "cell_type": "code",
   "execution_count": 12,
   "id": "b8b162de",
   "metadata": {},
   "outputs": [],
   "source": [
    "# Extraction d'un autre éditeur\n",
    "from sklearn.feature_extraction.text import TfidfVectorizer\n",
    "vectorizer = TfidfVectorizer()\n",
    "tfidf_data = vectorizer.fit_transform(products['review'])"
   ]
  },
  {
   "cell_type": "code",
   "execution_count": 13,
   "id": "3294df94",
   "metadata": {},
   "outputs": [
    {
     "name": "stdout",
     "output_type": "stream",
     "text": [
      "data  shape : (1000, 5787)\n",
      "label  shape : 1000\n"
     ]
    }
   ],
   "source": [
    "x=data_words\n",
    "y=products['label']\n",
    "\n",
    "print('data  shape :', x.shape)\n",
    "print('label  shape :', len(y))"
   ]
  },
  {
   "cell_type": "code",
   "execution_count": 14,
   "id": "b8acaf6d",
   "metadata": {},
   "outputs": [],
   "source": [
    "# Séparation des données pour l'entraînement au jeu de test\n",
    "from sklearn.model_selection import train_test_split\n",
    "x_train, x_test, y_train, y_test = train_test_split(x.toarray(), y, random_state = 1)"
   ]
  },
  {
   "cell_type": "code",
   "execution_count": 15,
   "id": "b8576390",
   "metadata": {},
   "outputs": [
    {
     "data": {
      "text/plain": [
       "SVC()"
      ]
     },
     "execution_count": 15,
     "metadata": {},
     "output_type": "execute_result"
    }
   ],
   "source": [
    "# Instantiation de la classe SVC(Classification / SVR => Regression)\n",
    "from sklearn.svm import SVC  \n",
    "svclassifier = SVC()\n",
    "\n",
    "# Recherche de la classification dans le jeu de donnée\n",
    "svclassifier.fit(x_train, y_train)"
   ]
  },
  {
   "cell_type": "code",
   "execution_count": 16,
   "id": "333ca4f6",
   "metadata": {},
   "outputs": [
    {
     "data": {
      "text/plain": [
       "array(['negative', 'positive'], dtype=object)"
      ]
     },
     "execution_count": 16,
     "metadata": {},
     "output_type": "execute_result"
    }
   ],
   "source": [
    "# Affichage des classes\n",
    "svclassifier.classes_"
   ]
  },
  {
   "cell_type": "code",
   "execution_count": 17,
   "id": "de128ef6",
   "metadata": {},
   "outputs": [],
   "source": [
    "# Prédiction de x_test\n",
    "y_pred = svclassifier.predict(x_test)"
   ]
  },
  {
   "cell_type": "code",
   "execution_count": 18,
   "id": "01a7e93f",
   "metadata": {},
   "outputs": [
    {
     "name": "stdout",
     "output_type": "stream",
     "text": [
      "[[  0  42]\n",
      " [  0 208]]\n",
      "              precision    recall  f1-score   support\n",
      "\n",
      "    negative       0.00      0.00      0.00        42\n",
      "    positive       0.83      1.00      0.91       208\n",
      "\n",
      "    accuracy                           0.83       250\n",
      "   macro avg       0.42      0.50      0.45       250\n",
      "weighted avg       0.69      0.83      0.76       250\n",
      "\n"
     ]
    },
    {
     "name": "stderr",
     "output_type": "stream",
     "text": [
      "C:\\Users\\doria\\anaconda3\\lib\\site-packages\\sklearn\\metrics\\_classification.py:1245: UndefinedMetricWarning: Precision and F-score are ill-defined and being set to 0.0 in labels with no predicted samples. Use `zero_division` parameter to control this behavior.\n",
      "  _warn_prf(average, modifier, msg_start, len(result))\n",
      "C:\\Users\\doria\\anaconda3\\lib\\site-packages\\sklearn\\metrics\\_classification.py:1245: UndefinedMetricWarning: Precision and F-score are ill-defined and being set to 0.0 in labels with no predicted samples. Use `zero_division` parameter to control this behavior.\n",
      "  _warn_prf(average, modifier, msg_start, len(result))\n",
      "C:\\Users\\doria\\anaconda3\\lib\\site-packages\\sklearn\\metrics\\_classification.py:1245: UndefinedMetricWarning: Precision and F-score are ill-defined and being set to 0.0 in labels with no predicted samples. Use `zero_division` parameter to control this behavior.\n",
      "  _warn_prf(average, modifier, msg_start, len(result))\n"
     ]
    }
   ],
   "source": [
    "from sklearn.metrics import classification_report, confusion_matrix  \n",
    "print(confusion_matrix(y_test, y_pred))  \n",
    "print(classification_report(y_test, y_pred))"
   ]
  },
  {
   "cell_type": "code",
   "execution_count": 19,
   "id": "b0deb5a0",
   "metadata": {},
   "outputs": [
    {
     "data": {
      "text/plain": [
       "0.832"
      ]
     },
     "execution_count": 19,
     "metadata": {},
     "output_type": "execute_result"
    }
   ],
   "source": [
    "# Package pour calculer la précision globale\n",
    "from sklearn.metrics import accuracy_score\n",
    "accuracy_score(y_test, y_pred)"
   ]
  },
  {
   "cell_type": "code",
   "execution_count": 20,
   "id": "08783281",
   "metadata": {},
   "outputs": [
    {
     "name": "stdout",
     "output_type": "stream",
     "text": [
      "0.832\n"
     ]
    }
   ],
   "source": [
    "# Vrai positif\n",
    "print(208/250)"
   ]
  },
  {
   "cell_type": "code",
   "execution_count": 21,
   "id": "aea8a4b7",
   "metadata": {},
   "outputs": [
    {
     "data": {
      "text/plain": [
       "'positive'"
      ]
     },
     "execution_count": 21,
     "metadata": {},
     "output_type": "execute_result"
    }
   ],
   "source": [
    "# Valeur pour le commentaire 93\n",
    "y_pred[93]"
   ]
  },
  {
   "cell_type": "code",
   "execution_count": 22,
   "id": "5966350e",
   "metadata": {},
   "outputs": [
    {
     "data": {
      "text/plain": [
       "'I sometimes think that there is an addictive substance hidden within our Sophie. Man, my toddler loves NOTHING more then this little creation. I initially scoffed at the price of this item and held out on buying it- until I saw my little guy try to steal it from a friend. The next day he got his own Sophie, and I became a believer. The price of this toy far outweighed the possible embarassment of him getting caught red handed again :) WORTH EVERY PENNY!'"
      ]
     },
     "execution_count": 22,
     "metadata": {},
     "output_type": "execute_result"
    }
   ],
   "source": [
    "# Commentaire 93\n",
    "products['review'][93]"
   ]
  },
  {
   "cell_type": "code",
   "execution_count": 23,
   "id": "1bb382dc",
   "metadata": {},
   "outputs": [
    {
     "data": {
      "text/plain": [
       "'positive'"
      ]
     },
     "execution_count": 23,
     "metadata": {},
     "output_type": "execute_result"
    }
   ],
   "source": [
    "# Commentaire 93\n",
    "products['label'][93]"
   ]
  }
 ],
 "metadata": {
  "kernelspec": {
   "display_name": "Python 3",
   "language": "python",
   "name": "python3"
  },
  "language_info": {
   "codemirror_mode": {
    "name": "ipython",
    "version": 3
   },
   "file_extension": ".py",
   "mimetype": "text/x-python",
   "name": "python",
   "nbconvert_exporter": "python",
   "pygments_lexer": "ipython3",
   "version": "3.8.8"
  }
 },
 "nbformat": 4,
 "nbformat_minor": 5
}
