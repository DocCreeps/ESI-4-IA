{
 "cells": [
  {
   "cell_type": "code",
   "execution_count": 1,
   "id": "e9b216e5",
   "metadata": {},
   "outputs": [],
   "source": [
    "import pandas\n",
    "import numpy\n",
    "from sklearn import datasets\n",
    "\n",
    "# Package des warnings pour les éviter plus tard\n",
    "import warnings\n",
    "warnings.filterwarnings(\"ignore\", category = FutureWarning)\n",
    "\n",
    "iris = datasets.load_iris()\n",
    "x_iris = iris.data\n",
    "y_iris = iris.target\n",
    "x_df_iris = pandas.DataFrame(iris.data, columns = iris.feature_names)\n",
    "y_df_iris = pandas.DataFrame(iris.target, columns = ['class'])\n",
    "y_sr_iris = y_df_iris['class']"
   ]
  },
  {
   "cell_type": "code",
   "execution_count": 2,
   "id": "aec7e410",
   "metadata": {},
   "outputs": [
    {
     "name": "stdout",
     "output_type": "stream",
     "text": [
      "(150, 4)\n",
      "(150, 1)\n"
     ]
    }
   ],
   "source": [
    "from sklearn.feature_selection import SelectKBest, chi2, f_regression,f_classif, RFE\n",
    "\n",
    "print(x_iris.shape)\n",
    "x_new1 = SelectKBest(chi2, k = 1).fit_transform(x_iris, y_iris)\n",
    "print(x_new1.shape)"
   ]
  },
  {
   "cell_type": "code",
   "execution_count": 3,
   "id": "183bc76d",
   "metadata": {},
   "outputs": [],
   "source": [
    "from sklearn.linear_model import LogisticRegression\n",
    "from sklearn.model_selection import train_test_split\n",
    "\n",
    "def regression_logistique (x, y):\n",
    "    logreg = LogisticRegression(max_iter = 10000)\n",
    "    x_train, x_test, y_train, y_test = train_test_split(x, y)\n",
    "    logreg.fit(x_train, y_train)\n",
    "    \n",
    "    # Prédiction\n",
    "    y_pred = logreg.predict(x_test)\n",
    "    return logreg.score(x_test, y_test)"
   ]
  },
  {
   "cell_type": "code",
   "execution_count": 4,
   "id": "c608220f",
   "metadata": {},
   "outputs": [
    {
     "data": {
      "text/plain": [
       "0.9210526315789473"
      ]
     },
     "execution_count": 4,
     "metadata": {},
     "output_type": "execute_result"
    }
   ],
   "source": [
    "regression_logistique(x_new1, y_iris)"
   ]
  },
  {
   "cell_type": "code",
   "execution_count": 5,
   "id": "3f07c274",
   "metadata": {},
   "outputs": [
    {
     "name": "stdout",
     "output_type": "stream",
     "text": [
      "1 0.9736842105263158\n",
      "2 0.868421052631579\n",
      "3 0.9473684210526315\n",
      "4 0.9736842105263158\n"
     ]
    }
   ],
   "source": [
    "MSE_values=[]\n",
    "for i in range(1, x_iris.shape[1] + 1):\n",
    "    x_new2 = SelectKBest(f_classif, i).fit_transform(x_iris, y_iris)\n",
    "    mse = regression_logistique(x_new2, y_iris)\n",
    "    MSE_values.append(mse)\n",
    "    print(i, mse)"
   ]
  },
  {
   "cell_type": "code",
   "execution_count": 6,
   "id": "12ba4ca2",
   "metadata": {},
   "outputs": [
    {
     "data": {
      "image/png": "[encoded data removed]",
      "text/plain": [
       "<Figure size 432x288 with 1 Axes>"
      ]
     },
     "metadata": {
      "needs_background": "light"
     },
     "output_type": "display_data"
    }
   ],
   "source": [
    "import matplotlib.pyplot as plt\n",
    "plt.plot(range(1, x_iris.shape[1] + 1), MSE_values);"
   ]
  },
  {
   "cell_type": "code",
   "execution_count": 7,
   "id": "a458a0e7",
   "metadata": {},
   "outputs": [
    {
     "data": {
      "text/html": [
       "<div>\n",
       "<style scoped>\n",
       "    .dataframe tbody tr th:only-of-type {\n",
       "        vertical-align: middle;\n",
       "    }\n",
       "\n",
       "    .dataframe tbody tr th {\n",
       "        vertical-align: top;\n",
       "    }\n",
       "\n",
       "    .dataframe thead th {\n",
       "        text-align: right;\n",
       "    }\n",
       "</style>\n",
       "<table border=\"1\" class=\"dataframe\">\n",
       "  <thead>\n",
       "    <tr style=\"text-align: right;\">\n",
       "      <th></th>\n",
       "      <th>CRIM</th>\n",
       "      <th>ZN</th>\n",
       "      <th>INDUS</th>\n",
       "      <th>CHAS</th>\n",
       "      <th>NOX</th>\n",
       "      <th>RM</th>\n",
       "      <th>AGE</th>\n",
       "      <th>DIS</th>\n",
       "      <th>RAD</th>\n",
       "      <th>TAX</th>\n",
       "      <th>PTRATIO</th>\n",
       "      <th>B</th>\n",
       "      <th>LSTAT</th>\n",
       "    </tr>\n",
       "  </thead>\n",
       "  <tbody>\n",
       "    <tr>\n",
       "      <th>0</th>\n",
       "      <td>0.00632</td>\n",
       "      <td>18.0</td>\n",
       "      <td>2.31</td>\n",
       "      <td>0.0</td>\n",
       "      <td>0.538</td>\n",
       "      <td>6.575</td>\n",
       "      <td>65.2</td>\n",
       "      <td>4.0900</td>\n",
       "      <td>1.0</td>\n",
       "      <td>296.0</td>\n",
       "      <td>15.3</td>\n",
       "      <td>396.90</td>\n",
       "      <td>4.98</td>\n",
       "    </tr>\n",
       "    <tr>\n",
       "      <th>1</th>\n",
       "      <td>0.02731</td>\n",
       "      <td>0.0</td>\n",
       "      <td>7.07</td>\n",
       "      <td>0.0</td>\n",
       "      <td>0.469</td>\n",
       "      <td>6.421</td>\n",
       "      <td>78.9</td>\n",
       "      <td>4.9671</td>\n",
       "      <td>2.0</td>\n",
       "      <td>242.0</td>\n",
       "      <td>17.8</td>\n",
       "      <td>396.90</td>\n",
       "      <td>9.14</td>\n",
       "    </tr>\n",
       "    <tr>\n",
       "      <th>2</th>\n",
       "      <td>0.02729</td>\n",
       "      <td>0.0</td>\n",
       "      <td>7.07</td>\n",
       "      <td>0.0</td>\n",
       "      <td>0.469</td>\n",
       "      <td>7.185</td>\n",
       "      <td>61.1</td>\n",
       "      <td>4.9671</td>\n",
       "      <td>2.0</td>\n",
       "      <td>242.0</td>\n",
       "      <td>17.8</td>\n",
       "      <td>392.83</td>\n",
       "      <td>4.03</td>\n",
       "    </tr>\n",
       "    <tr>\n",
       "      <th>3</th>\n",
       "      <td>0.03237</td>\n",
       "      <td>0.0</td>\n",
       "      <td>2.18</td>\n",
       "      <td>0.0</td>\n",
       "      <td>0.458</td>\n",
       "      <td>6.998</td>\n",
       "      <td>45.8</td>\n",
       "      <td>6.0622</td>\n",
       "      <td>3.0</td>\n",
       "      <td>222.0</td>\n",
       "      <td>18.7</td>\n",
       "      <td>394.63</td>\n",
       "      <td>2.94</td>\n",
       "    </tr>\n",
       "    <tr>\n",
       "      <th>4</th>\n",
       "      <td>0.06905</td>\n",
       "      <td>0.0</td>\n",
       "      <td>2.18</td>\n",
       "      <td>0.0</td>\n",
       "      <td>0.458</td>\n",
       "      <td>7.147</td>\n",
       "      <td>54.2</td>\n",
       "      <td>6.0622</td>\n",
       "      <td>3.0</td>\n",
       "      <td>222.0</td>\n",
       "      <td>18.7</td>\n",
       "      <td>396.90</td>\n",
       "      <td>5.33</td>\n",
       "    </tr>\n",
       "  </tbody>\n",
       "</table>\n",
       "</div>"
      ],
      "text/plain": [
       "      CRIM    ZN  INDUS  CHAS    NOX     RM   AGE     DIS  RAD    TAX  \\\n",
       "0  0.00632  18.0   2.31   0.0  0.538  6.575  65.2  4.0900  1.0  296.0   \n",
       "1  0.02731   0.0   7.07   0.0  0.469  6.421  78.9  4.9671  2.0  242.0   \n",
       "2  0.02729   0.0   7.07   0.0  0.469  7.185  61.1  4.9671  2.0  242.0   \n",
       "3  0.03237   0.0   2.18   0.0  0.458  6.998  45.8  6.0622  3.0  222.0   \n",
       "4  0.06905   0.0   2.18   0.0  0.458  7.147  54.2  6.0622  3.0  222.0   \n",
       "\n",
       "   PTRATIO       B  LSTAT  \n",
       "0     15.3  396.90   4.98  \n",
       "1     17.8  396.90   9.14  \n",
       "2     17.8  392.83   4.03  \n",
       "3     18.7  394.63   2.94  \n",
       "4     18.7  396.90   5.33  "
      ]
     },
     "execution_count": 7,
     "metadata": {},
     "output_type": "execute_result"
    }
   ],
   "source": [
    "boston = datasets.load_boston()\n",
    "x_bst = boston.data\n",
    "y_bst = boston.target\n",
    "x_df_bst = pandas.DataFrame(boston.data, columns = boston.feature_names)\n",
    "y_df_bst = pandas.DataFrame(boston.target, columns = ['MEDV'])\n",
    "y_sr_bst = y_df_bst['MEDV']\n",
    "\n",
    "x_df_bst.head()"
   ]
  },
  {
   "cell_type": "code",
   "execution_count": 8,
   "id": "3ab23a27",
   "metadata": {},
   "outputs": [
    {
     "data": {
      "text/plain": [
       "array([ 5, 10, 12], dtype=int64)"
      ]
     },
     "execution_count": 8,
     "metadata": {},
     "output_type": "execute_result"
    }
   ],
   "source": [
    "selector = SelectKBest(score_func = f_regression, k = 3)\n",
    "selector.fit(x_df_bst,y_bst)\n",
    "cols = selector.get_support(indices = True)\n",
    "cols"
   ]
  },
  {
   "cell_type": "code",
   "execution_count": 9,
   "id": "3b3e4282",
   "metadata": {},
   "outputs": [
    {
     "data": {
      "text/html": [
       "<div>\n",
       "<style scoped>\n",
       "    .dataframe tbody tr th:only-of-type {\n",
       "        vertical-align: middle;\n",
       "    }\n",
       "\n",
       "    .dataframe tbody tr th {\n",
       "        vertical-align: top;\n",
       "    }\n",
       "\n",
       "    .dataframe thead th {\n",
       "        text-align: right;\n",
       "    }\n",
       "</style>\n",
       "<table border=\"1\" class=\"dataframe\">\n",
       "  <thead>\n",
       "    <tr style=\"text-align: right;\">\n",
       "      <th></th>\n",
       "      <th>RM</th>\n",
       "      <th>PTRATIO</th>\n",
       "      <th>LSTAT</th>\n",
       "    </tr>\n",
       "  </thead>\n",
       "  <tbody>\n",
       "    <tr>\n",
       "      <th>0</th>\n",
       "      <td>6.575</td>\n",
       "      <td>15.3</td>\n",
       "      <td>4.98</td>\n",
       "    </tr>\n",
       "    <tr>\n",
       "      <th>1</th>\n",
       "      <td>6.421</td>\n",
       "      <td>17.8</td>\n",
       "      <td>9.14</td>\n",
       "    </tr>\n",
       "    <tr>\n",
       "      <th>2</th>\n",
       "      <td>7.185</td>\n",
       "      <td>17.8</td>\n",
       "      <td>4.03</td>\n",
       "    </tr>\n",
       "    <tr>\n",
       "      <th>3</th>\n",
       "      <td>6.998</td>\n",
       "      <td>18.7</td>\n",
       "      <td>2.94</td>\n",
       "    </tr>\n",
       "    <tr>\n",
       "      <th>4</th>\n",
       "      <td>7.147</td>\n",
       "      <td>18.7</td>\n",
       "      <td>5.33</td>\n",
       "    </tr>\n",
       "  </tbody>\n",
       "</table>\n",
       "</div>"
      ],
      "text/plain": [
       "      RM  PTRATIO  LSTAT\n",
       "0  6.575     15.3   4.98\n",
       "1  6.421     17.8   9.14\n",
       "2  7.185     17.8   4.03\n",
       "3  6.998     18.7   2.94\n",
       "4  7.147     18.7   5.33"
      ]
     },
     "execution_count": 9,
     "metadata": {},
     "output_type": "execute_result"
    }
   ],
   "source": [
    "x_df_bst_new = x_df_bst.iloc[:,cols]\n",
    "x_df_bst_new.head()"
   ]
  },
  {
   "cell_type": "code",
   "execution_count": 10,
   "id": "67a0e916",
   "metadata": {},
   "outputs": [],
   "source": [
    "from sklearn.linear_model import LinearRegression\n",
    "from sklearn.metrics import mean_squared_error\n",
    "\n",
    "def regression_lineaire (x, y):\n",
    "    linreg = LinearRegression()\n",
    "    x_train, x_test, y_train, y_test = train_test_split(x, y, random_state = 1)\n",
    "    linreg.fit(x_train, y_train)\n",
    "    \n",
    "    # Prédiction\n",
    "    y_pred = linreg.predict(x_test)\n",
    "    return numpy.sqrt(mean_squared_error(y_test, y_pred))"
   ]
  },
  {
   "cell_type": "code",
   "execution_count": 11,
   "id": "36a1ceac",
   "metadata": {},
   "outputs": [
    {
     "data": {
      "text/plain": [
       "4.679504823808757"
      ]
     },
     "execution_count": 11,
     "metadata": {},
     "output_type": "execute_result"
    }
   ],
   "source": [
    "# Application de la régression linéaire\n",
    "regression_lineaire(x_bst, y_bst)"
   ]
  },
  {
   "cell_type": "code",
   "execution_count": 12,
   "id": "248b98e4",
   "metadata": {},
   "outputs": [
    {
     "data": {
      "text/plain": [
       "5.258719364166146"
      ]
     },
     "execution_count": 12,
     "metadata": {},
     "output_type": "execute_result"
    }
   ],
   "source": [
    "# Application de la régression linéaire\n",
    "regression_lineaire(x_df_bst_new, y_df_bst)"
   ]
  },
  {
   "cell_type": "code",
   "execution_count": 13,
   "id": "eb4e04be",
   "metadata": {},
   "outputs": [
    {
     "name": "stdout",
     "output_type": "stream",
     "text": [
      "1 6.803413064032845\n",
      "2 5.56508267841118\n",
      "3 5.258719364166149\n",
      "4 5.258446562218219\n",
      "5 5.22331433468974\n",
      "6 5.30458218557125\n",
      "7 5.330040669202938\n",
      "8 5.169063587952267\n",
      "9 5.146532688078733\n",
      "10 5.147161721971872\n",
      "11 5.011762121690917\n",
      "12 4.714703641445915\n",
      "13 4.679504823808768\n"
     ]
    }
   ],
   "source": [
    "for i in range(1,x_bst.shape[1]+1):\n",
    "    x_new = SelectKBest(f_regression, i).fit_transform(x_bst, y_bst)\n",
    "    x_new = pandas.DataFrame(x_new)\n",
    "    x_new.head()\n",
    "    print(i, regression_lineaire(x_new, y_bst))"
   ]
  },
  {
   "cell_type": "code",
   "execution_count": 14,
   "id": "a70aeb7d",
   "metadata": {},
   "outputs": [
    {
     "data": {
      "text/plain": [
       "CRIM       0.388305\n",
       "ZN         0.360445\n",
       "INDUS      0.483725\n",
       "CHAS       0.175260\n",
       "NOX        0.427321\n",
       "RM         0.695360\n",
       "AGE        0.376955\n",
       "DIS        0.249929\n",
       "RAD        0.381626\n",
       "TAX        0.468536\n",
       "PTRATIO    0.507787\n",
       "B          0.333461\n",
       "LSTAT      0.737663\n",
       "MEDV       1.000000\n",
       "Name: MEDV, dtype: float64"
      ]
     },
     "execution_count": 14,
     "metadata": {},
     "output_type": "execute_result"
    }
   ],
   "source": [
    "x_df_bst2 = x_df_bst.copy()\n",
    "x_df_bst2['MEDV'] = y_bst\n",
    "cor = x_df_bst2.corr()\n",
    "\n",
    "# Corrélation\n",
    "cor_target = abs(cor[\"MEDV\"])\n",
    "cor_target"
   ]
  },
  {
   "cell_type": "code",
   "execution_count": 15,
   "id": "0926450b",
   "metadata": {},
   "outputs": [
    {
     "data": {
      "text/plain": [
       "['RM', 'PTRATIO', 'LSTAT']"
      ]
     },
     "execution_count": 15,
     "metadata": {},
     "output_type": "execute_result"
    }
   ],
   "source": [
    "selected_features = list(cor_target[cor_target > 0.5].index)\n",
    "selected_features = selected_features[:-1]\n",
    "selected_features"
   ]
  },
  {
   "cell_type": "code",
   "execution_count": 16,
   "id": "317233ab",
   "metadata": {},
   "outputs": [
    {
     "data": {
      "text/plain": [
       "5.258719364166146"
      ]
     },
     "execution_count": 16,
     "metadata": {},
     "output_type": "execute_result"
    }
   ],
   "source": [
    "x_df_bst3 = x_df_bst.loc[:,selected_features]\n",
    "\n",
    "# Application de la régression linéaire\n",
    "regression_lineaire(x_df_bst3, y_bst)"
   ]
  },
  {
   "cell_type": "code",
   "execution_count": 17,
   "id": "25452210",
   "metadata": {},
   "outputs": [
    {
     "name": "stdout",
     "output_type": "stream",
     "text": [
      "(150, 2)\n",
      "0.21780798831846374\n"
     ]
    }
   ],
   "source": [
    "# Package du discriminant\n",
    "from sklearn.discriminant_analysis import LinearDiscriminantAnalysis\n",
    "\n",
    "lda = LinearDiscriminantAnalysis()\n",
    "x_new3 = lda.fit_transform(x_iris, y_iris)\n",
    "print(x_new3.shape)\n",
    "print(regression_lineaire(x_new3, y_iris))"
   ]
  },
  {
   "cell_type": "code",
   "execution_count": 18,
   "id": "f5fe322d",
   "metadata": {},
   "outputs": [
    {
     "name": "stdout",
     "output_type": "stream",
     "text": [
      "1 0.246097992043711\n",
      "2 0.21780798831846374\n"
     ]
    }
   ],
   "source": [
    "MSE_values=[]\n",
    "for i in range(1, x_new3.shape[1] + 1):\n",
    "    x_new4 = SelectKBest(f_classif, i).fit_transform(x_new3, y_iris)\n",
    "    mse = regression_lineaire(x_new4, y_iris)\n",
    "    MSE_values.append(mse)\n",
    "    print(i, mse)"
   ]
  }
 ],
 "metadata": {
  "kernelspec": {
   "display_name": "Python 3",
   "language": "python",
   "name": "python3"
  },
  "language_info": {
   "codemirror_mode": {
    "name": "ipython",
    "version": 3
   },
   "file_extension": ".py",
   "mimetype": "text/x-python",
   "name": "python",
   "nbconvert_exporter": "python",
   "pygments_lexer": "ipython3",
   "version": "3.8.8"
  }
 },
 "nbformat": 4,
 "nbformat_minor": 5
}
