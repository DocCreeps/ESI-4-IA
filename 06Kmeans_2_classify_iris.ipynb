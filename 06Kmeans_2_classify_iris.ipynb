{
 "cells": [
  {
   "cell_type": "code",
   "execution_count": 2,
   "id": "23787d6c",
   "metadata": {},
   "outputs": [
    {
     "data": {
      "text/plain": [
       "(150, 4)"
      ]
     },
     "execution_count": 2,
     "metadata": {},
     "output_type": "execute_result"
    }
   ],
   "source": [
    "import pandas\n",
    "from sklearn import datasets\n",
    "\n",
    "# Chargement des données avec iris\n",
    "iris = datasets.load_iris()\n",
    "x_df = iris.data\n",
    "\n",
    "# Nombre de lignes et colonnes\n",
    "x_df.shape"
   ]
  },
  {
   "cell_type": "code",
   "execution_count": 3,
   "id": "906c7d82",
   "metadata": {},
   "outputs": [
    {
     "data": {
      "text/html": [
       "<div>\n",
       "<style scoped>\n",
       "    .dataframe tbody tr th:only-of-type {\n",
       "        vertical-align: middle;\n",
       "    }\n",
       "\n",
       "    .dataframe tbody tr th {\n",
       "        vertical-align: top;\n",
       "    }\n",
       "\n",
       "    .dataframe thead th {\n",
       "        text-align: right;\n",
       "    }\n",
       "</style>\n",
       "<table border=\"1\" class=\"dataframe\">\n",
       "  <thead>\n",
       "    <tr style=\"text-align: right;\">\n",
       "      <th></th>\n",
       "      <th>Sepal Length</th>\n",
       "      <th>Sepal Width</th>\n",
       "      <th>Petal Length</th>\n",
       "      <th>Petal Width</th>\n",
       "    </tr>\n",
       "  </thead>\n",
       "  <tbody>\n",
       "    <tr>\n",
       "      <th>0</th>\n",
       "      <td>5.1</td>\n",
       "      <td>3.5</td>\n",
       "      <td>1.4</td>\n",
       "      <td>0.2</td>\n",
       "    </tr>\n",
       "    <tr>\n",
       "      <th>1</th>\n",
       "      <td>4.9</td>\n",
       "      <td>3.0</td>\n",
       "      <td>1.4</td>\n",
       "      <td>0.2</td>\n",
       "    </tr>\n",
       "    <tr>\n",
       "      <th>2</th>\n",
       "      <td>4.7</td>\n",
       "      <td>3.2</td>\n",
       "      <td>1.3</td>\n",
       "      <td>0.2</td>\n",
       "    </tr>\n",
       "    <tr>\n",
       "      <th>3</th>\n",
       "      <td>4.6</td>\n",
       "      <td>3.1</td>\n",
       "      <td>1.5</td>\n",
       "      <td>0.2</td>\n",
       "    </tr>\n",
       "    <tr>\n",
       "      <th>4</th>\n",
       "      <td>5.0</td>\n",
       "      <td>3.6</td>\n",
       "      <td>1.4</td>\n",
       "      <td>0.2</td>\n",
       "    </tr>\n",
       "  </tbody>\n",
       "</table>\n",
       "</div>"
      ],
      "text/plain": [
       "   Sepal Length  Sepal Width  Petal Length  Petal Width\n",
       "0           5.1          3.5           1.4          0.2\n",
       "1           4.9          3.0           1.4          0.2\n",
       "2           4.7          3.2           1.3          0.2\n",
       "3           4.6          3.1           1.5          0.2\n",
       "4           5.0          3.6           1.4          0.2"
      ]
     },
     "execution_count": 3,
     "metadata": {},
     "output_type": "execute_result"
    }
   ],
   "source": [
    "# Création du DataFrame avec nom des colonnes défini\n",
    "x_df = pandas.DataFrame(iris.data, columns = ['Sepal Length', 'Sepal Width', 'Petal Length', 'Petal Width'])\n",
    "x_df.head()"
   ]
  },
  {
   "cell_type": "code",
   "execution_count": 4,
   "id": "b8168de2",
   "metadata": {},
   "outputs": [
    {
     "data": {
      "text/plain": [
       "KMeans(n_clusters=5, random_state=0)"
      ]
     },
     "execution_count": 4,
     "metadata": {},
     "output_type": "execute_result"
    }
   ],
   "source": [
    "# Package KMeans\n",
    "from sklearn.cluster import KMeans\n",
    "\n",
    "# Déclaration du KMeans avec un 5 clusters\n",
    "kmeans_5 = KMeans(n_clusters = 5, random_state = 0)\n",
    "\n",
    "# On applique le DataFrame dans le kmeans\n",
    "kmeans_5.fit(x_df)"
   ]
  },
  {
   "cell_type": "code",
   "execution_count": 5,
   "id": "d67fa888",
   "metadata": {},
   "outputs": [
    {
     "data": {
      "text/plain": [
       "array([0, 0, 0, 0, 0, 0, 0, 0, 0, 0, 0, 0, 0, 0, 0, 0, 0, 0, 0, 0, 0, 0,\n",
       "       0, 0, 0, 0, 0, 0, 0, 0, 0, 0, 0, 0, 0, 0, 0, 0, 0, 0, 0, 0, 0, 0,\n",
       "       0, 0, 0, 0, 0, 0, 4, 4, 4, 2, 4, 2, 4, 2, 4, 2, 2, 2, 2, 4, 2, 4,\n",
       "       2, 2, 4, 2, 4, 2, 4, 4, 4, 4, 4, 4, 4, 2, 2, 2, 2, 4, 2, 4, 4, 4,\n",
       "       2, 2, 2, 4, 2, 2, 2, 2, 2, 4, 2, 2, 1, 4, 3, 1, 1, 3, 2, 3, 1, 3,\n",
       "       1, 1, 1, 4, 1, 1, 1, 3, 3, 4, 1, 4, 3, 4, 1, 3, 4, 4, 1, 3, 3, 3,\n",
       "       1, 4, 4, 3, 1, 1, 4, 1, 1, 1, 4, 1, 1, 1, 4, 1, 1, 4])"
      ]
     },
     "execution_count": 5,
     "metadata": {},
     "output_type": "execute_result"
    }
   ],
   "source": [
    "# Numéros des clusters\n",
    "kmeans_5.labels_"
   ]
  },
  {
   "cell_type": "code",
   "execution_count": 6,
   "id": "1ae6bf3b",
   "metadata": {},
   "outputs": [
    {
     "data": {
      "text/plain": [
       "array([[5.006     , 3.428     , 1.462     , 0.246     ],\n",
       "       [6.52916667, 3.05833333, 5.50833333, 2.1625    ],\n",
       "       [5.53214286, 2.63571429, 3.96071429, 1.22857143],\n",
       "       [7.475     , 3.125     , 6.3       , 2.05      ],\n",
       "       [6.24722222, 2.84722222, 4.775     , 1.575     ]])"
      ]
     },
     "execution_count": 6,
     "metadata": {},
     "output_type": "execute_result"
    }
   ],
   "source": [
    "# Calcul des centres\n",
    "kmeans_5.cluster_centers_"
   ]
  },
  {
   "cell_type": "code",
   "execution_count": 7,
   "id": "93a8866b",
   "metadata": {},
   "outputs": [],
   "source": [
    "import numpy\n",
    "\n",
    "# Création d'une fonction de calcul du KMeans\n",
    "def KMeans_calcul (dataframe, x, y, retourne):\n",
    "    # Déclaration du KMeans avec x clusters avec random_state = y (passés en paramètre)\n",
    "    kmeans = KMeans(n_clusters = x, random_state = y)\n",
    "    \n",
    "    # On applique le DataFrame dans le kmeans\n",
    "    kmeans.fit(dataframe)\n",
    "    \n",
    "    if (retourne == 0):\n",
    "            # Affichage des informations\n",
    "            print('centre des clusters :')\n",
    "            print(kmeans.cluster_centers_, end = '\\n\\n')\n",
    "\n",
    "            # Caclul de la somme des distances de chaque élément (racine carré)\n",
    "            # PI : Plus il y a de clusters, plus le résultat sera proche de 0\n",
    "            print('inertie : ', numpy.sqrt(kmeans.inertia_))\n",
    "    elif (retourne == 1):\n",
    "            return numpy.sqrt(kmeans.inertia_)\n",
    "    elif (retourne == 2):\n",
    "            return kmeans    "
   ]
  },
  {
   "cell_type": "code",
   "execution_count": 8,
   "id": "8ff93b1b",
   "metadata": {},
   "outputs": [
    {
     "name": "stdout",
     "output_type": "stream",
     "text": [
      "centre des clusters :\n",
      "[[5.006      3.428      1.462      0.246     ]\n",
      " [6.52916667 3.05833333 5.50833333 2.1625    ]\n",
      " [5.53214286 2.63571429 3.96071429 1.22857143]\n",
      " [7.475      3.125      6.3        2.05      ]\n",
      " [6.24722222 2.84722222 4.775      1.575     ]]\n",
      "\n",
      "inertie :  6.817054360846052\n"
     ]
    }
   ],
   "source": [
    "KMeans_calcul(x_df, 5, 0, 0)"
   ]
  },
  {
   "cell_type": "code",
   "execution_count": 9,
   "id": "2114008d",
   "metadata": {},
   "outputs": [
    {
     "name": "stdout",
     "output_type": "stream",
     "text": [
      "centre des clusters :\n",
      "[[6.03684211 2.70526316 5.         1.77894737]\n",
      " [5.5125     4.         1.475      0.275     ]\n",
      " [6.56818182 3.08636364 5.53636364 2.16363636]\n",
      " [5.2        2.36666667 3.38333333 1.01666667]\n",
      " [4.67894737 3.08421053 1.37894737 0.2       ]\n",
      " [5.1        3.51304348 1.52608696 0.27391304]\n",
      " [5.62272727 2.70909091 4.11818182 1.28636364]\n",
      " [7.43333333 2.92222222 6.26666667 1.98888889]\n",
      " [6.44210526 2.97894737 4.59473684 1.43157895]\n",
      " [7.6        3.73333333 6.4        2.23333333]]\n",
      "\n",
      "inertie :  5.1082604417296915\n"
     ]
    }
   ],
   "source": [
    "KMeans_calcul(x_df, 10, 0, 0)"
   ]
  },
  {
   "cell_type": "code",
   "execution_count": 10,
   "id": "87c8d9fa",
   "metadata": {},
   "outputs": [
    {
     "name": "stdout",
     "output_type": "stream",
     "text": [
      "centre des clusters :\n",
      "[[6.56818182 3.08636364 5.53636364 2.16363636]\n",
      " [5.52857143 4.04285714 1.47142857 0.28571429]\n",
      " [5.61666667 2.65555556 4.05       1.25      ]\n",
      " [5.1125     3.52083333 1.525      0.27083333]\n",
      " [6.03529412 2.70588235 5.04117647 1.79411765]\n",
      " [7.475      3.125      6.3        2.05      ]\n",
      " [5.2        2.36666667 3.38333333 1.01666667]\n",
      " [4.67894737 3.08421053 1.37894737 0.2       ]\n",
      " [6.63333333 3.03333333 4.63333333 1.45833333]\n",
      " [5.96153846 2.87692308 4.51538462 1.44615385]]\n",
      "\n",
      "inertie :  5.108237420347483\n"
     ]
    }
   ],
   "source": [
    "KMeans_calcul(x_df, 10, 1, 0)"
   ]
  },
  {
   "cell_type": "code",
   "execution_count": 11,
   "id": "4aa6d0f8",
   "metadata": {},
   "outputs": [
    {
     "name": "stdout",
     "output_type": "stream",
     "text": [
      "centre des clusters :\n",
      "[[5.52857143 4.04285714 1.47142857 0.28571429]\n",
      " [6.56818182 3.08636364 5.53636364 2.16363636]\n",
      " [5.7        2.55       3.875      1.15      ]\n",
      " [5.1125     3.52083333 1.525      0.27083333]\n",
      " [6.43       2.94       4.59       1.435     ]\n",
      " [7.475      3.125      6.3        2.05      ]\n",
      " [6.02777778 2.73333333 5.02777778 1.79444444]\n",
      " [5.54166667 2.83333333 4.275      1.375     ]\n",
      " [4.67894737 3.08421053 1.37894737 0.2       ]\n",
      " [5.         2.3        3.275      1.025     ]]\n",
      "\n",
      "inertie :  5.095790221255043\n"
     ]
    }
   ],
   "source": [
    "KMeans_calcul(x_df, 10, 2, 0)"
   ]
  },
  {
   "cell_type": "code",
   "execution_count": 12,
   "id": "a84cae85",
   "metadata": {},
   "outputs": [
    {
     "name": "stderr",
     "output_type": "stream",
     "text": [
      "C:\\Users\\doria\\anaconda3\\lib\\site-packages\\sklearn\\cluster\\_kmeans.py:881: UserWarning: KMeans is known to have a memory leak on Windows with MKL, when there are less chunks than available threads. You can avoid it by setting the environment variable OMP_NUM_THREADS=1.\n",
      "  warnings.warn(\n"
     ]
    },
    {
     "name": "stdout",
     "output_type": "stream",
     "text": [
      "[26.10307644703972, 12.342931246683584, 8.87983341207176, 7.564950311422126, 6.817054360846052, 6.248198720118243, 5.856595608475298, 5.482983733101233, 5.317115922054346]\n"
     ]
    }
   ],
   "source": [
    "liste_inertie = []\n",
    "liste_kmeans = list(range(1, 10))\n",
    "\n",
    "for k in liste_kmeans :\n",
    "    liste_inertie.append(KMeans_calcul(x_df, k, 0, 1))\n",
    "    \n",
    "print(liste_inertie)"
   ]
  },
  {
   "cell_type": "code",
   "execution_count": 13,
   "id": "12ad3828",
   "metadata": {},
   "outputs": [
    {
     "data": {
      "image/png": "[encoded data removed]",
      "text/plain": [
       "<Figure size 432x432 with 1 Axes>"
      ]
     },
     "metadata": {
      "needs_background": "light"
     },
     "output_type": "display_data"
    }
   ],
   "source": [
    "import matplotlib.pyplot as plt\n",
    "\n",
    "# Affichage des données \n",
    "plt.figure(figsize=(6, 6))\n",
    "plt.plot(liste_kmeans, liste_inertie, '-o')\n",
    "plt.xlabel('Nombre de clusters')\n",
    "plt.ylabel('Somme de la distance');"
   ]
  },
  {
   "cell_type": "code",
   "execution_count": 14,
   "id": "4adce201",
   "metadata": {},
   "outputs": [
    {
     "data": {
      "text/plain": [
       "array([1, 1, 1, 1, 1])"
      ]
     },
     "execution_count": 14,
     "metadata": {},
     "output_type": "execute_result"
    }
   ],
   "source": [
    "kmeans = KMeans_calcul(x_df, 3, 0, 2)\n",
    "\n",
    "# Prédiction du cluster\n",
    "new_clusters = kmeans.predict(x_df[:5])\n",
    "new_clusters"
   ]
  },
  {
   "cell_type": "code",
   "execution_count": 15,
   "id": "02e3ae21",
   "metadata": {},
   "outputs": [
    {
     "name": "stdout",
     "output_type": "stream",
     "text": [
      "[2]\n"
     ]
    }
   ],
   "source": [
    "print(kmeans.predict([[0, 0, 12, 3]]))"
   ]
  },
  {
   "cell_type": "code",
   "execution_count": 16,
   "id": "d1aed5f9",
   "metadata": {},
   "outputs": [
    {
     "data": {
      "text/plain": [
       "AgglomerativeClustering(distance_threshold=4, n_clusters=None)"
      ]
     },
     "execution_count": 16,
     "metadata": {},
     "output_type": "execute_result"
    }
   ],
   "source": [
    "from sklearn.cluster import AgglomerativeClustering\n",
    "\n",
    "# AgglomerativeClustering\n",
    "HAC_model = AgglomerativeClustering(distance_threshold = 4, n_clusters = None)\n",
    "HAC_model.fit(x_df)"
   ]
  },
  {
   "cell_type": "code",
   "execution_count": 17,
   "id": "17866a3d",
   "metadata": {},
   "outputs": [
    {
     "data": {
      "text/plain": [
       "5"
      ]
     },
     "execution_count": 17,
     "metadata": {},
     "output_type": "execute_result"
    }
   ],
   "source": [
    "HAC_model.n_clusters_"
   ]
  },
  {
   "cell_type": "code",
   "execution_count": 18,
   "id": "9bdf088d",
   "metadata": {},
   "outputs": [
    {
     "data": {
      "text/plain": [
       "array([ 0.        ,  0.1       ,  0.1       ,  0.1       ,  0.1       ,\n",
       "        0.1       ,  0.14142136,  0.14142136,  0.14142136,  0.14142136,\n",
       "        0.14142136,  0.14142136,  0.14142136,  0.14142136,  0.14142136,\n",
       "        0.14142136,  0.14142136,  0.14142136,  0.14142136,  0.14142136,\n",
       "        0.14142136,  0.17320508,  0.17320508,  0.17320508,  0.17320508,\n",
       "        0.17320508,  0.18257419,  0.18257419,  0.2       ,  0.2       ,\n",
       "        0.2       ,  0.2       ,  0.2081666 ,  0.21602469,  0.21602469,\n",
       "        0.2236068 ,  0.2236068 ,  0.24494897,  0.24494897,  0.24494897,\n",
       "        0.24494897,  0.24494897,  0.24494897,  0.25819889,  0.26457513,\n",
       "        0.26457513,  0.26457513,  0.26457513,  0.26457513,  0.27080128,\n",
       "        0.27568098,  0.28284271,  0.29439203,  0.29439203,  0.29439203,\n",
       "        0.29439203,  0.30550505,  0.31358146,  0.31464265,  0.31622777,\n",
       "        0.31622777,  0.32145503,  0.33166248,  0.33166248,  0.33166248,\n",
       "        0.33665016,  0.34156503,  0.34641016,  0.34641016,  0.35118846,\n",
       "        0.35355339,  0.35823642,  0.36055513,  0.36285902,  0.36968455,\n",
       "        0.37416574,  0.37416574,  0.4       ,  0.40620192,  0.41231056,\n",
       "        0.41231056,  0.41472883,  0.42229532,  0.43969687,  0.43969687,\n",
       "        0.43969687,  0.4472136 ,  0.45825757,  0.46547467,  0.46726153,\n",
       "        0.48131764,  0.48166378,  0.48989795,  0.51478151,  0.52915026,\n",
       "        0.5329165 ,  0.53851648,  0.54772256,  0.57445626,  0.58022984,\n",
       "        0.59441848,  0.60580525,  0.61373175,  0.6244998 ,  0.63087241,\n",
       "        0.6363961 ,  0.64031242,  0.64291005,  0.66269651,  0.70945989,\n",
       "        0.72456884,  0.73257537,  0.73409052,  0.73496032,  0.76321688,\n",
       "        0.77628542,  0.80622577,  0.81873887,  0.82187359,  0.82613558,\n",
       "        0.85556999,  0.86458082,  0.90998199,  0.92870878,  0.92915732,\n",
       "        1.00534287,  1.04705937,  1.10513951,  1.15325626,  1.21700908,\n",
       "        1.25399362,  1.3048627 ,  1.37126983,  1.41139074,  1.49547731,\n",
       "        1.5977663 ,  1.75916647,  1.76044502,  1.84584475,  1.91608028,\n",
       "        1.91875287,  2.05363058,  2.81393883,  2.86941764,  3.82805262,\n",
       "        4.84770851,  6.39940682, 12.30039605, 32.447607  ])"
      ]
     },
     "execution_count": 18,
     "metadata": {},
     "output_type": "execute_result"
    }
   ],
   "source": [
    "HAC_model.distances_"
   ]
  },
  {
   "cell_type": "code",
   "execution_count": 19,
   "id": "8db91c95",
   "metadata": {},
   "outputs": [
    {
     "data": {
      "image/png": "[encoded data removed]",
      "text/plain": [
       "<Figure size 432x288 with 1 Axes>"
      ]
     },
     "metadata": {
      "needs_background": "light"
     },
     "output_type": "display_data"
    }
   ],
   "source": [
    "from scipy.cluster.hierarchy import dendrogram\n",
    "import numpy\n",
    "\n",
    "def plot_dendrogram(model, **kwargs):\n",
    "    # Calcul des échantillons pour chaque noeud\n",
    "    counts = numpy.zeros(model.children_.shape[0])\n",
    "    n_samples = len(model.labels_)\n",
    "    \n",
    "    for i, merge in enumerate(model.children_):\n",
    "        current_count = 0\n",
    "        for child_idx in merge:\n",
    "            if child_idx < n_samples:\n",
    "                current_count += 1\n",
    "            else:\n",
    "                current_count += counts[child_idx - n_samples]\n",
    "        counts[i] = current_count\n",
    "\n",
    "    # Création de la matrice\n",
    "    linkage_matrix = numpy.column_stack([model.children_, model.distances_, counts]).astype(float)\n",
    "    # Dendrogram\n",
    "    dendrogram(linkage_matrix, **kwargs)\n",
    "\n",
    "# Récupération des données et dendrogram puis affichage\n",
    "plot_dendrogram(HAC_model)\n",
    "plt.show()"
   ]
  }
 ],
 "metadata": {
  "kernelspec": {
   "display_name": "Python 3",
   "language": "python",
   "name": "python3"
  },
  "language_info": {
   "codemirror_mode": {
    "name": "ipython",
    "version": 3
   },
   "file_extension": ".py",
   "mimetype": "text/x-python",
   "name": "python",
   "nbconvert_exporter": "python",
   "pygments_lexer": "ipython3",
   "version": "3.8.8"
  }
 },
 "nbformat": 4,
 "nbformat_minor": 5
}
